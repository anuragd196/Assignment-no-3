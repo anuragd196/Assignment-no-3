{
 "cells": [
  {
   "cell_type": "code",
   "execution_count": 1,
   "id": "4802fa8b",
   "metadata": {},
   "outputs": [],
   "source": [
    "a= \"anurag\""
   ]
  },
  {
   "cell_type": "code",
   "execution_count": 2,
   "id": "acd25b7b",
   "metadata": {},
   "outputs": [
    {
     "name": "stdout",
     "output_type": "stream",
     "text": [
      "anurag\n"
     ]
    }
   ],
   "source": [
    "print(a)"
   ]
  },
  {
   "cell_type": "code",
   "execution_count": 3,
   "id": "96fdb927",
   "metadata": {},
   "outputs": [
    {
     "name": "stdout",
     "output_type": "stream",
     "text": [
      "[1, 2, 3, 'Anurag']\n"
     ]
    }
   ],
   "source": [
    "list_1 = [1,2,3,\"Anurag\"]\n",
    "print(list_1)"
   ]
  },
  {
   "cell_type": "code",
   "execution_count": 5,
   "id": "c814f45b",
   "metadata": {},
   "outputs": [
    {
     "name": "stdout",
     "output_type": "stream",
     "text": [
      "anurag\n"
     ]
    }
   ],
   "source": [
    "a= \"anurag\"\n",
    "print(a)"
   ]
  },
  {
   "cell_type": "code",
   "execution_count": 7,
   "id": "23696cd3",
   "metadata": {},
   "outputs": [
    {
     "name": "stdout",
     "output_type": "stream",
     "text": [
      "33\n",
      "20\n"
     ]
    }
   ],
   "source": [
    "n1 = 33\n",
    "print(n1)\n",
    "n = 20\n",
    "print(n)"
   ]
  },
  {
   "cell_type": "code",
   "execution_count": null,
   "id": "6993de20",
   "metadata": {},
   "outputs": [],
   "source": [
    "n1 = \"anurag\""
   ]
  },
  {
   "cell_type": "code",
   "execution_count": 8,
   "id": "e98bc1c8",
   "metadata": {},
   "outputs": [
    {
     "name": "stdout",
     "output_type": "stream",
     "text": [
      "<class 'int'>\n"
     ]
    }
   ],
   "source": [
    "print(type(n1))"
   ]
  },
  {
   "cell_type": "code",
   "execution_count": null,
   "id": "8b52c7c8",
   "metadata": {},
   "outputs": [],
   "source": []
  }
 ],
 "metadata": {
  "kernelspec": {
   "display_name": "Python 3 (ipykernel)",
   "language": "python",
   "name": "python3"
  },
  "language_info": {
   "codemirror_mode": {
    "name": "ipython",
    "version": 3
   },
   "file_extension": ".py",
   "mimetype": "text/x-python",
   "name": "python",
   "nbconvert_exporter": "python",
   "pygments_lexer": "ipython3",
   "version": "3.9.7"
  }
 },
 "nbformat": 4,
 "nbformat_minor": 5
}
